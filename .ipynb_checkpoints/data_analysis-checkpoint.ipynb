{
 "cells": [
  {
   "cell_type": "code",
   "execution_count": 1,
   "id": "41d96ba8-e809-440d-a4c7-f677cd423616",
   "metadata": {},
   "outputs": [],
   "source": [
    "import pandas as pd"
   ]
  },
  {
   "cell_type": "code",
   "execution_count": 2,
   "id": "b36cb0f5-0a33-4d76-b869-33bacfb929db",
   "metadata": {},
   "outputs": [],
   "source": [
    "#english\n",
    "train_data = pd.read_csv(\"data/subtask-2-english/train_en.tsv\",sep='\\t')\n",
    "dev_data = pd.read_csv(\"data/subtask-2-english/dev_en.tsv\", sep='\\t')"
   ]
  },
  {
   "cell_type": "code",
   "execution_count": 3,
   "id": "954bd69e-890e-4b36-ad98-4bd9f618782c",
   "metadata": {},
   "outputs": [
    {
     "data": {
      "text/plain": [
       "label\n",
       "OBJ     532\n",
       "SUBJ    298\n",
       "Name: count, dtype: int64"
      ]
     },
     "execution_count": 3,
     "metadata": {},
     "output_type": "execute_result"
    }
   ],
   "source": [
    "train_data[\"label\"].value_counts()"
   ]
  },
  {
   "cell_type": "code",
   "execution_count": 4,
   "id": "bee62338-caed-43c5-a078-a75c2e187a90",
   "metadata": {},
   "outputs": [],
   "source": [
    "# italian\n",
    "train_data = pd.read_csv(\"data/subtask-2-italian/train_it.tsv\",sep='\\t')\n",
    "dev_data = pd.read_csv(\"data/subtask-2-italian/dev_it.tsv\", sep='\\t')"
   ]
  },
  {
   "cell_type": "code",
   "execution_count": 5,
   "id": "fe34f0a7-44a1-4cc0-a0c1-f54db11dee8a",
   "metadata": {},
   "outputs": [
    {
     "data": {
      "text/plain": [
       "label\n",
       "OBJ     1231\n",
       "SUBJ     382\n",
       "Name: count, dtype: int64"
      ]
     },
     "execution_count": 5,
     "metadata": {},
     "output_type": "execute_result"
    }
   ],
   "source": [
    "train_data[\"label\"].value_counts()\n"
   ]
  },
  {
   "cell_type": "code",
   "execution_count": 6,
   "id": "f697eecf-eafa-4211-a26a-c511fd560111",
   "metadata": {},
   "outputs": [
    {
     "data": {
      "text/plain": [
       "label\n",
       "OBJ     167\n",
       "SUBJ     60\n",
       "Name: count, dtype: int64"
      ]
     },
     "execution_count": 6,
     "metadata": {},
     "output_type": "execute_result"
    }
   ],
   "source": [
    "dev_data[\"label\"].value_counts()"
   ]
  },
  {
   "cell_type": "code",
   "execution_count": 7,
   "id": "ad96e795-ec07-43d8-9fc1-3028aaa0f3e3",
   "metadata": {},
   "outputs": [],
   "source": [
    "#german\n",
    "train_data = pd.read_csv(\"data/subtask-2-german/train_de.tsv\",sep='\\t')\n",
    "dev_data = pd.read_csv(\"data/subtask-2-german/dev_de.tsv\", sep='\\t')"
   ]
  },
  {
   "cell_type": "code",
   "execution_count": 8,
   "id": "d84a14fb-fd9a-4556-ba44-57644b4d3eb5",
   "metadata": {},
   "outputs": [
    {
     "data": {
      "text/plain": [
       "label\n",
       "OBJ     492\n",
       "SUBJ    308\n",
       "Name: count, dtype: int64"
      ]
     },
     "execution_count": 8,
     "metadata": {},
     "output_type": "execute_result"
    }
   ],
   "source": [
    "train_data[\"label\"].value_counts()\n"
   ]
  },
  {
   "cell_type": "code",
   "execution_count": 9,
   "id": "cf06b1b6-cc18-4889-9063-173681f991c9",
   "metadata": {},
   "outputs": [
    {
     "data": {
      "text/plain": [
       "label\n",
       "OBJ     123\n",
       "SUBJ     77\n",
       "Name: count, dtype: int64"
      ]
     },
     "execution_count": 9,
     "metadata": {},
     "output_type": "execute_result"
    }
   ],
   "source": [
    "dev_data[\"label\"].value_counts()"
   ]
  },
  {
   "cell_type": "code",
   "execution_count": 10,
   "id": "09831ef2-d6f5-471f-be92-3e232b6631cf",
   "metadata": {},
   "outputs": [],
   "source": [
    "# bulgarian\n",
    "train_data = pd.read_csv(\"data/subtask-2-bulgarian/train_bg.tsv\",sep='\\t')\n",
    "dev_data = pd.read_csv(\"data/subtask-2-bulgarian/dev_bg.tsv\", sep='\\t')\n",
    "test_data = pd.read_csv(\"data/subtask-2-bulgarian/dev_test_bg.tsv\", sep='\\t')  # Update with your dev data file"
   ]
  },
  {
   "cell_type": "code",
   "execution_count": 11,
   "id": "e12ad4a5-da16-4c86-a048-757b4dbe4082",
   "metadata": {},
   "outputs": [
    {
     "data": {
      "text/plain": [
       "label\n",
       "OBJ     397\n",
       "SUBJ    317\n",
       "Name: count, dtype: int64"
      ]
     },
     "execution_count": 11,
     "metadata": {},
     "output_type": "execute_result"
    }
   ],
   "source": [
    "train_data[\"label\"].value_counts()\n"
   ]
  },
  {
   "cell_type": "code",
   "execution_count": 12,
   "id": "717776af-ffb9-493d-8918-422eb93a1488",
   "metadata": {},
   "outputs": [
    {
     "data": {
      "text/plain": [
       "label\n",
       "OBJ     59\n",
       "SUBJ    47\n",
       "Name: count, dtype: int64"
      ]
     },
     "execution_count": 12,
     "metadata": {},
     "output_type": "execute_result"
    }
   ],
   "source": [
    "dev_data[\"label\"].value_counts()"
   ]
  },
  {
   "cell_type": "code",
   "execution_count": 13,
   "id": "284c0405-6736-4c20-9b5e-be2fbfbe1cbb",
   "metadata": {},
   "outputs": [
    {
     "data": {
      "text/plain": [
       "label\n",
       "OBJ     116\n",
       "SUBJ     92\n",
       "Name: count, dtype: int64"
      ]
     },
     "execution_count": 13,
     "metadata": {},
     "output_type": "execute_result"
    }
   ],
   "source": [
    "test_data[\"label\"].value_counts()"
   ]
  },
  {
   "cell_type": "code",
   "execution_count": 14,
   "id": "4a4dddb9-9f1f-46c3-a1f2-8b765ffe2a6e",
   "metadata": {},
   "outputs": [],
   "source": [
    "# arabic\n",
    "train_data = pd.read_csv(\"data/subtask-2-arabic/train_ar.tsv\",sep='\\t')\n",
    "dev_data = pd.read_csv(\"data/subtask-2-arabic/dev_ar.tsv\", sep='\\t')"
   ]
  },
  {
   "cell_type": "code",
   "execution_count": 15,
   "id": "80120126-8c44-4333-a6e2-efe71bcece13",
   "metadata": {},
   "outputs": [
    {
     "data": {
      "text/plain": [
       "label\n",
       "OBJ     905\n",
       "SUBJ    280\n",
       "Name: count, dtype: int64"
      ]
     },
     "execution_count": 15,
     "metadata": {},
     "output_type": "execute_result"
    }
   ],
   "source": [
    "train_data[\"label\"].value_counts()\n"
   ]
  },
  {
   "cell_type": "code",
   "execution_count": 16,
   "id": "fda320f7-889d-4894-876f-396ac94cda13",
   "metadata": {},
   "outputs": [
    {
     "data": {
      "text/plain": [
       "label\n",
       "OBJ     227\n",
       "SUBJ     70\n",
       "Name: count, dtype: int64"
      ]
     },
     "execution_count": 16,
     "metadata": {},
     "output_type": "execute_result"
    }
   ],
   "source": [
    "dev_data[\"label\"].value_counts()"
   ]
  },
  {
   "cell_type": "code",
   "execution_count": 17,
   "id": "a711012e-f951-40e7-adbb-9cbd4e37b8f4",
   "metadata": {},
   "outputs": [],
   "source": [
    "#multilang24\n",
    "train_data = pd.read_csv(\"data/subtask-2-multilingual/ml_only_2024_languages/train_ml_only_2024_languages.tsv\",sep='\\t')\n",
    "dev_data = pd.read_csv(\"data/subtask-2-multilingual/ml_only_2024_languages/dev_ml_only_2024_languages.tsv\", sep='\\t')\n",
    "test_data = pd.read_csv(\"data/subtask-2-multilingual/ml_only_2024_languages/dev_test_ml_only_2024_languages.tsv\", sep='\\t')"
   ]
  },
  {
   "cell_type": "code",
   "execution_count": 18,
   "id": "35af86b4-1d70-4b43-85fc-528ac4084057",
   "metadata": {},
   "outputs": [
    {
     "data": {
      "text/plain": [
       "label\n",
       "OBJ     3160\n",
       "SUBJ    1268\n",
       "Name: count, dtype: int64"
      ]
     },
     "execution_count": 18,
     "metadata": {},
     "output_type": "execute_result"
    }
   ],
   "source": [
    "train_data[\"label\"].value_counts()"
   ]
  },
  {
   "cell_type": "code",
   "execution_count": 20,
   "id": "6726d92e-358f-4f9b-a862-63e055682617",
   "metadata": {},
   "outputs": [
    {
     "data": {
      "text/plain": [
       "label\n",
       "OBJ    40\n",
       "Name: count, dtype: int64"
      ]
     },
     "execution_count": 20,
     "metadata": {},
     "output_type": "execute_result"
    }
   ],
   "source": [
    "dev_data[\"label\"].value_counts()"
   ]
  },
  {
   "cell_type": "code",
   "execution_count": null,
   "id": "3c4f7ec8-a3ee-44df-bc24-f9df00e6c1a0",
   "metadata": {},
   "outputs": [],
   "source": [
    "test_data[\"label\"].value_counts()"
   ]
  },
  {
   "cell_type": "code",
   "execution_count": null,
   "id": "59dc1631-37a7-4bab-8f3a-92f5e0e47de9",
   "metadata": {},
   "outputs": [],
   "source": []
  }
 ],
 "metadata": {
  "kernelspec": {
   "display_name": "Python 3 (ipykernel)",
   "language": "python",
   "name": "python3"
  },
  "language_info": {
   "codemirror_mode": {
    "name": "ipython",
    "version": 3
   },
   "file_extension": ".py",
   "mimetype": "text/x-python",
   "name": "python",
   "nbconvert_exporter": "python",
   "pygments_lexer": "ipython3",
   "version": "3.11.9"
  }
 },
 "nbformat": 4,
 "nbformat_minor": 5
}
