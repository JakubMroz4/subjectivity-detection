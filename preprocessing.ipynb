{
 "cells": [
  {
   "cell_type": "code",
   "execution_count": 2,
   "id": "f62392ce-c4b6-4480-9605-324a2e1958e0",
   "metadata": {},
   "outputs": [],
   "source": [
    "import pandas as pd\n",
    "data=pd.read_csv(\"data/subtask-2-multilingual/ml_only_2024_languages/train_ml_only_2024_languages.tsv\",sep='\\t')"
   ]
  },
  {
   "cell_type": "code",
   "execution_count": 3,
   "id": "bb31134e-b184-4070-b5b7-29ba7dd7dcb5",
   "metadata": {},
   "outputs": [
    {
     "data": {
      "text/plain": [
       "(4428, 3)"
      ]
     },
     "execution_count": 3,
     "metadata": {},
     "output_type": "execute_result"
    }
   ],
   "source": [
    "data.shape"
   ]
  },
  {
   "cell_type": "code",
   "execution_count": 4,
   "id": "71d5c453-1404-4e4c-9937-01722c7dba83",
   "metadata": {},
   "outputs": [
    {
     "data": {
      "text/plain": [
       "(4428,)"
      ]
     },
     "execution_count": 4,
     "metadata": {},
     "output_type": "execute_result"
    }
   ],
   "source": [
    "data[\"label\"].shape"
   ]
  },
  {
   "cell_type": "code",
   "execution_count": null,
   "id": "f8055ae5-0d7a-4810-b35e-05a302e306c1",
   "metadata": {},
   "outputs": [],
   "source": []
  }
 ],
 "metadata": {
  "kernelspec": {
   "display_name": "Python 3 (ipykernel)",
   "language": "python",
   "name": "python3"
  },
  "language_info": {
   "codemirror_mode": {
    "name": "ipython",
    "version": 3
   },
   "file_extension": ".py",
   "mimetype": "text/x-python",
   "name": "python",
   "nbconvert_exporter": "python",
   "pygments_lexer": "ipython3",
   "version": "3.11.9"
  }
 },
 "nbformat": 4,
 "nbformat_minor": 5
}
